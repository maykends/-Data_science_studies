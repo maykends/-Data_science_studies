{
  "nbformat": 4,
  "nbformat_minor": 0,
  "metadata": {
    "colab": {
      "name": "Exercício 01 - Python_Básico.ipynb",
      "provenance": [],
      "authorship_tag": "ABX9TyNpsRY3YpA4rvJ1k3/tHrW2",
      "include_colab_link": true
    },
    "kernelspec": {
      "name": "python3",
      "display_name": "Python 3"
    },
    "language_info": {
      "name": "python"
    }
  },
  "cells": [
    {
      "cell_type": "markdown",
      "metadata": {
        "id": "view-in-github",
        "colab_type": "text"
      },
      "source": [
        "<a href=\"https://colab.research.google.com/github/maykends/-Data_science_studies/blob/main/exercicio/Exerc%C3%ADcio_01_Python_B%C3%A1sico.ipynb\" target=\"_parent\"><img src=\"https://colab.research.google.com/assets/colab-badge.svg\" alt=\"Open In Colab\"/></a>"
      ]
    },
    {
      "cell_type": "markdown",
      "metadata": {
        "id": "LkQdtMr2YrnE"
      },
      "source": [
        "# Exercício 01"
      ]
    },
    {
      "cell_type": "markdown",
      "metadata": {
        "id": "qiFQMuk2YvP0"
      },
      "source": [
        "Ler dois números inteiros, executar e mostrar o resultado das seguintes operações: adição, subtração, multiplicação e divisão"
      ]
    },
    {
      "cell_type": "code",
      "metadata": {
        "colab": {
          "base_uri": "https://localhost:8080/"
        },
        "id": "6pueI9yiXIqD",
        "outputId": "c977dea5-4836-4e2d-be15-e0ae16136fd5"
      },
      "source": [
        "a = int(input('Informe o pimeiro número:'))\n",
        "b = int(input('Informe o segundo número:'))"
      ],
      "execution_count": 16,
      "outputs": [
        {
          "output_type": "stream",
          "text": [
            "Informe o pimeiro número:2\n",
            "Informe o segundo número:4\n"
          ],
          "name": "stdout"
        }
      ]
    },
    {
      "cell_type": "code",
      "metadata": {
        "colab": {
          "base_uri": "https://localhost:8080/"
        },
        "id": "6Se-WEHCXQKt",
        "outputId": "c8d188c7-9af0-4f5c-8d58-777e88699955"
      },
      "source": [
        "soma = a + b\n",
        "print ('A soma entre', a, 'e', b, 'é igual a:', soma)\n",
        "\n",
        "sub = a - b\n",
        "print ('A subtração entre', a, 'e', b, 'é igual a:', sub)\n",
        "\n",
        "mul = a * b\n",
        "print ('A multiplicação entre', a, 'e', b, 'é igual a:', mul)\n",
        "\n",
        "div = a / b\n",
        "print ('A divisão entre', a, 'e', b, 'é igual a:', div)"
      ],
      "execution_count": 17,
      "outputs": [
        {
          "output_type": "stream",
          "text": [
            "A soma entre 2 e 4 é igual a: 6\n",
            "A subtração entre 2 e 4 é igual a: -2\n",
            "A multiplicação entre 2 e 4 é igual a: 8\n",
            "A divisão entre 2 e 4 é igual a: 0.5\n"
          ],
          "name": "stdout"
        }
      ]
    },
    {
      "cell_type": "markdown",
      "metadata": {
        "id": "DHxmQvOcYz0x"
      },
      "source": [
        "Efetuar o cálculo da quantidade de litros de combustível gasto em uma viagem, utilizando um automóvel que faz 12 Km por litro. Para obter o cálculo, o usuário deve fornecer o tempo gasto na viagem e a velocidade média durante ela. Desta forma, será possível obter a distância percorrida com a fórmula DISTANCIA = TEMPO * VELOCIDADE. Tendo o valor da distância, basta calcular a quantidade de litros de combustível utilizada na viagem, com a fórmula: LITROS_USADOS = DISTANCIA / 12. O programa deve apresentar os valores da velocidade média, tempo gasto na viagem, a distância percorrida e a quantidade de litros utilizada na viagem"
      ]
    },
    {
      "cell_type": "code",
      "metadata": {
        "id": "UknquzGdYn45"
      },
      "source": [
        ""
      ],
      "execution_count": null,
      "outputs": []
    }
  ]
}