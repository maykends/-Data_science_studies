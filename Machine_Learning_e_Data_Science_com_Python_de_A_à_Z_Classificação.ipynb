{
  "cells": [
    {
      "cell_type": "markdown",
      "metadata": {
        "id": "view-in-github",
        "colab_type": "text"
      },
      "source": [
        "<a href=\"https://colab.research.google.com/github/maykends/-Data_science_studies/blob/main/Machine_Learning_e_Data_Science_com_Python_de_A_%C3%A0_Z_Classifica%C3%A7%C3%A3o.ipynb\" target=\"_parent\"><img src=\"https://colab.research.google.com/assets/colab-badge.svg\" alt=\"Open In Colab\"/></a>"
      ]
    },
    {
      "cell_type": "markdown",
      "metadata": {
        "id": "bdeWF9k0L2YT"
      },
      "source": [
        "# Machine Learning e Data Science com Python(Classificacão)"
      ]
    },
    {
      "cell_type": "markdown",
      "metadata": {
        "id": "hfYbHgghOW5g"
      },
      "source": [
        "# Importação das bibliotecas básicas"
      ]
    },
    {
      "cell_type": "code",
      "source": [
        "# biblioteca para gerar gráficos dinâmicos na versão mais recente usando o --upgrade\n",
        "!pip install plotly --upgrade"
      ],
      "metadata": {
        "colab": {
          "base_uri": "https://localhost:8080/"
        },
        "id": "y-0OxFvqlAWJ",
        "outputId": "7b7e682a-c3b0-4ba6-f8c6-4d28e00de84e"
      },
      "execution_count": 1,
      "outputs": [
        {
          "output_type": "stream",
          "name": "stdout",
          "text": [
            "Looking in indexes: https://pypi.org/simple, https://us-python.pkg.dev/colab-wheels/public/simple/\n",
            "Requirement already satisfied: plotly in /usr/local/lib/python3.10/dist-packages (5.13.1)\n",
            "Collecting plotly\n",
            "  Downloading plotly-5.14.1-py2.py3-none-any.whl (15.3 MB)\n",
            "\u001b[2K     \u001b[90m━━━━━━━━━━━━━━━━━━━━━━━━━━━━━━━━━━━━━━━━\u001b[0m \u001b[32m15.3/15.3 MB\u001b[0m \u001b[31m65.1 MB/s\u001b[0m eta \u001b[36m0:00:00\u001b[0m\n",
            "\u001b[?25hRequirement already satisfied: packaging in /usr/local/lib/python3.10/dist-packages (from plotly) (23.1)\n",
            "Requirement already satisfied: tenacity>=6.2.0 in /usr/local/lib/python3.10/dist-packages (from plotly) (8.2.2)\n",
            "Installing collected packages: plotly\n",
            "  Attempting uninstall: plotly\n",
            "    Found existing installation: plotly 5.13.1\n",
            "    Uninstalling plotly-5.13.1:\n",
            "      Successfully uninstalled plotly-5.13.1\n",
            "Successfully installed plotly-5.14.1\n"
          ]
        }
      ]
    },
    {
      "cell_type": "code",
      "source": [
        "import pandas as pd \n",
        "import numpy as np  \n",
        "import seaborn as sns \n",
        "import matplotlib.pyplot as plt\n",
        "import plotly.express as px "
      ],
      "metadata": {
        "id": "qLCHkV8NlAH4"
      },
      "execution_count": 3,
      "outputs": []
    },
    {
      "cell_type": "markdown",
      "source": [
        "- ***Pandas*** é uma biblioteca que fornece estruturas de dados eficientes para manipulação e análise de dados, especialmente tabelas e séries temporais. Com Pandas, é possível ler, escrever e filtrar dados em diversos formatos, além de realizar operações estatísticas e de agregação.\n",
        "\n",
        "- ***Numpy*** é uma biblioteca que fornece suporte para arrays e matrizes multidimensionais, bem como funções para operações numéricas com esses objetos. Ela é amplamente utilizada para cálculos científicos e computacionais em Python.\n",
        "\n",
        "- ***Seaborn*** é uma biblioteca de visualização de dados baseada no Matplotlib, que fornece uma interface de alto nível para criação de gráficos estatísticos atraentes e informativos. Ela é especialmente útil para visualização de distribuições, relacionamentos e tendências em conjuntos de dados complexos.\n",
        "\n",
        "- ***Matplotlib.pyplot*** é uma sub-biblioteca do Matplotlib que fornece funções para criação de gráficos e visualizações de dados. Ela é a biblioteca padrão para plotagem de dados em Python e oferece uma grande variedade de opções para personalização e formatação de gráficos.\n",
        "\n",
        "- ***Plotly.express*** é uma biblioteca de visualização de dados interativa, que permite criar gráficos interativos em Python com poucas linhas de código. Ela oferece suporte a diversos tipos de gráficos, incluindo scatter plots, barras, mapas e mais, além de permitir a adição de interatividade como zoom e tooltips."
      ],
      "metadata": {
        "id": "w0JedrV7n_w1"
      }
    },
    {
      "cell_type": "markdown",
      "metadata": {
        "id": "d4GPkpRVTfq4"
      },
      "source": [
        "# Base de dados de crédito\n",
        "\n",
        "- Fonte (adaptado): https://www.kaggle.com/laotse/credit-risk-dataset"
      ]
    },
    {
      "cell_type": "markdown",
      "metadata": {
        "id": "oCVRZFuyXPR9"
      },
      "source": [
        "### Exploração dos dados"
      ]
    },
    {
      "cell_type": "markdown",
      "metadata": {
        "id": "x23iAAKsQ-iU"
      },
      "source": [
        "### Visualização dos dados"
      ]
    },
    {
      "cell_type": "markdown",
      "metadata": {
        "id": "9JL8G9jQXTLF"
      },
      "source": [
        "### Tratamento de valores inconsistentes"
      ]
    }
  ],
  "metadata": {
    "colab": {
      "collapsed_sections": [
        "9JL8G9jQXTLF",
        "JpDM1Er1obkO",
        "cOSLRdDEsWFx",
        "S_jbxLwqu4fQ",
        "g-23aN-nkDQ7",
        "zr9S1fZXRQhg",
        "2GpcvTQauTVx",
        "QGapZ37jkPAn",
        "K2K3Wu8Q4e0E",
        "mHg2BXJR4hpi",
        "bdNbsNLFkWop",
        "q_KOjDv47-IV",
        "zAecbXOi8AzA",
        "Oi9qbert8aMv",
        "L0FGtQLrnN-0",
        "lmXN77tcnP2v",
        "lnC-s4bLnRmt",
        "PfnUWv8SU7ST",
        "TOCiDpHFU90w",
        "ZO-c0InojFK5",
        "0bLyVMFrjGzm",
        "h8ZVuJ-VDE8h",
        "SN9q4qQiDIsi",
        "0v5iHxzcNPNK",
        "e6tDYDLUNUWH"
      ],
      "provenance": [],
      "include_colab_link": true
    },
    "kernelspec": {
      "display_name": "Python 3",
      "name": "python3"
    },
    "language_info": {
      "name": "python"
    }
  },
  "nbformat": 4,
  "nbformat_minor": 0
}