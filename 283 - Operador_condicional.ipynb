{
  "nbformat": 4,
  "nbformat_minor": 0,
  "metadata": {
    "colab": {
      "provenance": [],
      "authorship_tag": "ABX9TyNQ5sPZgpCY9hgZvvwS8vmu",
      "include_colab_link": true
    },
    "kernelspec": {
      "name": "python3",
      "display_name": "Python 3"
    },
    "language_info": {
      "name": "python"
    }
  },
  "cells": [
    {
      "cell_type": "markdown",
      "metadata": {
        "id": "view-in-github",
        "colab_type": "text"
      },
      "source": [
        "<a href=\"https://colab.research.google.com/github/maykends/-Data_science_studies/blob/main/Operador_condicional.ipynb\" target=\"_parent\"><img src=\"https://colab.research.google.com/assets/colab-badge.svg\" alt=\"Open In Colab\"/></a>"
      ]
    },
    {
      "cell_type": "markdown",
      "source": [
        "# Operador condicional"
      ],
      "metadata": {
        "id": "rcnFgQ7qRuz1"
      }
    },
    {
      "cell_type": "code",
      "execution_count": 1,
      "metadata": {
        "colab": {
          "base_uri": "https://localhost:8080/"
        },
        "id": "smSH4_hIRnzh",
        "outputId": "dfe0a590-8bf3-4494-a644-7d530a26eeda"
      },
      "outputs": [
        {
          "output_type": "execute_result",
          "data": {
            "text/plain": [
              "True"
            ]
          },
          "metadata": {},
          "execution_count": 1
        }
      ],
      "source": [
        "5 > 3"
      ]
    },
    {
      "cell_type": "code",
      "source": [
        "if 5 >3:\n",
        "  print('5 é maior que 3')\n",
        "print('teste')\n",
        "\n",
        "# se 5 maior que 3 então, os : siginifica então"
      ],
      "metadata": {
        "colab": {
          "base_uri": "https://localhost:8080/"
        },
        "id": "ntBYI_HERy4h",
        "outputId": "e8d3cb77-21c2-4fa9-c063-be0ce6a7c022"
      },
      "execution_count": 3,
      "outputs": [
        {
          "output_type": "stream",
          "name": "stdout",
          "text": [
            "5 é maior que 3\n",
            "teste\n"
          ]
        }
      ]
    },
    {
      "cell_type": "code",
      "source": [
        "if 5 > 6:\n",
        "  print('5 é maior')\n",
        "else: # se não\n",
        "  print('5 não é maior')"
      ],
      "metadata": {
        "colab": {
          "base_uri": "https://localhost:8080/"
        },
        "id": "3vWOOeyRRzDc",
        "outputId": "76f32b02-d580-40b8-87d5-2b2878bcbc03"
      },
      "execution_count": 5,
      "outputs": [
        {
          "output_type": "stream",
          "name": "stdout",
          "text": [
            "5 não é maior\n"
          ]
        }
      ]
    },
    {
      "cell_type": "code",
      "source": [
        "# com mais de 2 condições\n",
        "n = 3\n",
        "if n == 4:\n",
        "  print('n é igual a 4')\n",
        "else:\n",
        "  if n == 3:\n",
        "    print('n é igual a 3')\n",
        "  else:\n",
        "    print('n não é igual a 4 nem a 3')"
      ],
      "metadata": {
        "colab": {
          "base_uri": "https://localhost:8080/"
        },
        "id": "vRjJKX9oRzJs",
        "outputId": "f6beadaf-ae53-4218-d642-745a98ba3f2c"
      },
      "execution_count": 6,
      "outputs": [
        {
          "output_type": "stream",
          "name": "stdout",
          "text": [
            "n é igual a 3\n"
          ]
        }
      ]
    },
    {
      "cell_type": "code",
      "source": [
        "x = 2\n",
        "y = 3\n",
        "if (x > 1) and (3 % 2 == 0):\n",
        "  print('x é maior que 1 e y é par')\n",
        "else:\n",
        "  print('Uma ou nenhuma das condições foram satisfeitas')"
      ],
      "metadata": {
        "colab": {
          "base_uri": "https://localhost:8080/"
        },
        "id": "ty94h3a1RzOs",
        "outputId": "b53c50eb-dd5c-4c72-8942-5a94b60d13b5"
      },
      "execution_count": 8,
      "outputs": [
        {
          "output_type": "stream",
          "name": "stdout",
          "text": [
            "Uma ou nenhuma das condições foram satisfeitas\n"
          ]
        }
      ]
    },
    {
      "cell_type": "code",
      "source": [
        "x = 1\n",
        "y = 5\n",
        "if (x > 1) or (3 % 2 == 0):\n",
        "  print('x é maior que 1 e y é par')\n",
        "else:\n",
        "  print('Uma ou nenhuma das condições foram satisfeitas')\n",
        "\n",
        "  # se nenhuma for verdadeira no OR"
      ],
      "metadata": {
        "colab": {
          "base_uri": "https://localhost:8080/"
        },
        "id": "IWnuuZWzgsIP",
        "outputId": "f91af46e-c34c-4459-d2d4-cc84ef90a15e"
      },
      "execution_count": 9,
      "outputs": [
        {
          "output_type": "stream",
          "name": "stdout",
          "text": [
            "Uma ou nenhuma das condições foram satisfeitas\n"
          ]
        }
      ]
    }
  ]
}
