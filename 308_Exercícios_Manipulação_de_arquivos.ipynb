{
  "nbformat": 4,
  "nbformat_minor": 0,
  "metadata": {
    "colab": {
      "provenance": [],
      "include_colab_link": true
    },
    "kernelspec": {
      "name": "python3",
      "display_name": "Python 3"
    }
  },
  "cells": [
    {
      "cell_type": "markdown",
      "metadata": {
        "id": "view-in-github",
        "colab_type": "text"
      },
      "source": [
        "<a href=\"https://colab.research.google.com/github/maykends/-Data_science_studies/blob/main/308_Exerc%C3%ADcios_Manipula%C3%A7%C3%A3o_de_arquivos.ipynb\" target=\"_parent\"><img src=\"https://colab.research.google.com/assets/colab-badge.svg\" alt=\"Open In Colab\"/></a>"
      ]
    },
    {
      "cell_type": "markdown",
      "metadata": {
        "id": "2mwCD5b1rYff"
      },
      "source": [
        "# Exercício\n",
        "\n",
        "Considerando o dicionário com o nome dos alunos e suas respectivas notas, crie uma estrutura de repetição para percorrer cada elemento do dicionário para gravar cada aluno em um novo arquivo de texto\n",
        "- Cada aluno deve ocupar uma linha do novo arquivo de texto\n",
        "- O formato deve ser: nome,nota (Pedro,8.0)\n",
        "- Após a criação do arquivo de texto, faça a leitura do arquivo e mostre todos os alunos"
      ]
    },
    {
      "cell_type": "code",
      "source": [
        "alunos = {'Pedro': 8.0, 'Maria': 10.0, 'Amilton': 7.5}\n",
        "alunos"
      ],
      "metadata": {
        "colab": {
          "base_uri": "https://localhost:8080/"
        },
        "id": "_UKHf7o7gXus",
        "outputId": "9a2fef94-e14a-4b01-8ef8-11db5ff21e2c"
      },
      "execution_count": 1,
      "outputs": [
        {
          "output_type": "execute_result",
          "data": {
            "text/plain": [
              "{'Pedro': 8.0, 'Maria': 10.0, 'Amilton': 7.5}"
            ]
          },
          "metadata": {},
          "execution_count": 1
        }
      ]
    },
    {
      "cell_type": "code",
      "source": [
        "with open('alunos.txt','w') as arquivo:\n",
        "  for aluno, nota in alunos.items(): # percorrendo o nome do aluno e a nota para items, no qual irá retornar com a chave e o valor\n",
        "    arquivo.write(f'{aluno},{nota}\\n') # realizando a gravação\n"
      ],
      "metadata": {
        "id": "yqvZ-GcRgYmF"
      },
      "execution_count": 2,
      "outputs": []
    },
    {
      "cell_type": "code",
      "source": [
        "# realizando a leitura do arquivo\n",
        "with open('alunos.txt','r') as arquivo:\n",
        "  for linha in arquivo:\n",
        "    print(linha)"
      ],
      "metadata": {
        "colab": {
          "base_uri": "https://localhost:8080/"
        },
        "id": "ynTiUKx9gYrV",
        "outputId": "259b4d99-1815-4b5e-ec52-641aecc86fd5"
      },
      "execution_count": 4,
      "outputs": [
        {
          "output_type": "stream",
          "name": "stdout",
          "text": [
            "Pedro,8.0\n",
            "\n",
            "Maria,10.0\n",
            "\n",
            "Amilton,7.5\n",
            "\n"
          ]
        }
      ]
    }
  ]
}