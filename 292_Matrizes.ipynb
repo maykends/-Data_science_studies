{
  "nbformat": 4,
  "nbformat_minor": 0,
  "metadata": {
    "colab": {
      "provenance": [],
      "authorship_tag": "ABX9TyOp5Osyz8Eq4jWM0BHGtOSg",
      "include_colab_link": true
    },
    "kernelspec": {
      "name": "python3",
      "display_name": "Python 3"
    },
    "language_info": {
      "name": "python"
    }
  },
  "cells": [
    {
      "cell_type": "markdown",
      "metadata": {
        "id": "view-in-github",
        "colab_type": "text"
      },
      "source": [
        "<a href=\"https://colab.research.google.com/github/maykends/-Data_science_studies/blob/main/292_Matrizes.ipynb\" target=\"_parent\"><img src=\"https://colab.research.google.com/assets/colab-badge.svg\" alt=\"Open In Colab\"/></a>"
      ]
    },
    {
      "cell_type": "markdown",
      "source": [
        "# Matrizes"
      ],
      "metadata": {
        "id": "HkpPI2dGt4pe"
      }
    },
    {
      "cell_type": "markdown",
      "source": [
        "Em Python, uma matriz é uma coleção ordenada de valores que podem ser de diferentes tipos de dados, como inteiros, floats, strings, etc. Ela é representada por colchetes [] e os valores são separados por vírgulas."
      ],
      "metadata": {
        "id": "tF8btY5-uRj9"
      }
    },
    {
      "cell_type": "code",
      "execution_count": 2,
      "metadata": {
        "id": "PG407sdht0Bg"
      },
      "outputs": [],
      "source": [
        "import numpy as np # biblioteca para processamento cientifico para funções estatistica"
      ]
    },
    {
      "cell_type": "code",
      "source": [
        "# array é uma lista um pouco mais elaborada e mais rápida\n",
        "matriz = np.array([[2,3,1],\n",
        "                   [4,5,7]]) # definindo linhas e colunas 2 X 3 = Linhas X colunas"
      ],
      "metadata": {
        "id": "lnWSCOASt_73"
      },
      "execution_count": 3,
      "outputs": []
    },
    {
      "cell_type": "code",
      "source": [
        "matriz"
      ],
      "metadata": {
        "colab": {
          "base_uri": "https://localhost:8080/"
        },
        "id": "Ij1pFO85uAJN",
        "outputId": "2aa62211-ed70-4950-bf2f-777dda89a06a"
      },
      "execution_count": 5,
      "outputs": [
        {
          "output_type": "execute_result",
          "data": {
            "text/plain": [
              "array([[2, 3, 1],\n",
              "       [4, 5, 7]])"
            ]
          },
          "metadata": {},
          "execution_count": 5
        }
      ]
    },
    {
      "cell_type": "code",
      "source": [
        "print(matriz)"
      ],
      "metadata": {
        "colab": {
          "base_uri": "https://localhost:8080/"
        },
        "id": "6Sa2lWLWuAOl",
        "outputId": "0eac040e-5cca-4d79-cdce-d03f9d5cc1f6"
      },
      "execution_count": 6,
      "outputs": [
        {
          "output_type": "stream",
          "name": "stdout",
          "text": [
            "[[2 3 1]\n",
            " [4 5 7]]\n"
          ]
        }
      ]
    },
    {
      "cell_type": "code",
      "source": [
        "matriz.shape # retorna o tipo ou formato da matriz, como 2 linhas e 3 colunas"
      ],
      "metadata": {
        "colab": {
          "base_uri": "https://localhost:8080/"
        },
        "id": "LE4i-KpCuAT1",
        "outputId": "11c78ed1-c759-4351-e91d-18cbaaac0ddc"
      },
      "execution_count": 8,
      "outputs": [
        {
          "output_type": "execute_result",
          "data": {
            "text/plain": [
              "(2, 3)"
            ]
          },
          "metadata": {},
          "execution_count": 8
        }
      ]
    },
    {
      "cell_type": "code",
      "source": [
        "matriz[1] # retorno da segunda linha"
      ],
      "metadata": {
        "colab": {
          "base_uri": "https://localhost:8080/"
        },
        "id": "Umq6BEACuAYu",
        "outputId": "baef0d47-7e47-4b75-d206-7540214af1ef"
      },
      "execution_count": 9,
      "outputs": [
        {
          "output_type": "execute_result",
          "data": {
            "text/plain": [
              "array([4, 5, 7])"
            ]
          },
          "metadata": {},
          "execution_count": 9
        }
      ]
    },
    {
      "cell_type": "code",
      "source": [
        "matriz[0][0] # retorno a linha e coluna zero"
      ],
      "metadata": {
        "colab": {
          "base_uri": "https://localhost:8080/"
        },
        "id": "Z0KMIPwNuAe3",
        "outputId": "e2b65e6f-9e0d-42a0-94fd-458d875dc658"
      },
      "execution_count": 10,
      "outputs": [
        {
          "output_type": "execute_result",
          "data": {
            "text/plain": [
              "2"
            ]
          },
          "metadata": {},
          "execution_count": 10
        }
      ]
    },
    {
      "cell_type": "code",
      "source": [
        "matriz[0][1] # retorno a linha 0 e coluna 2"
      ],
      "metadata": {
        "colab": {
          "base_uri": "https://localhost:8080/"
        },
        "id": "aGy6Kg8buAkH",
        "outputId": "7f0998b2-f704-4d6e-ba7a-e6dda33aa0c4"
      },
      "execution_count": 12,
      "outputs": [
        {
          "output_type": "execute_result",
          "data": {
            "text/plain": [
              "3"
            ]
          },
          "metadata": {},
          "execution_count": 12
        }
      ]
    },
    {
      "cell_type": "code",
      "source": [
        "matriz[0][2] # retorno a linha 0 e coluna 3"
      ],
      "metadata": {
        "colab": {
          "base_uri": "https://localhost:8080/"
        },
        "id": "Gq6LSoRIuAn1",
        "outputId": "e32a386d-634b-49f5-e0eb-24658d8d5284"
      },
      "execution_count": 14,
      "outputs": [
        {
          "output_type": "execute_result",
          "data": {
            "text/plain": [
              "1"
            ]
          },
          "metadata": {},
          "execution_count": 14
        }
      ]
    },
    {
      "cell_type": "code",
      "source": [
        "matriz[1][0] # retorno a linha 1 e coluna 1"
      ],
      "metadata": {
        "colab": {
          "base_uri": "https://localhost:8080/"
        },
        "id": "5kru2LgUyDFu",
        "outputId": "39a9a5fa-1e34-44e0-9a71-75a048d05809"
      },
      "execution_count": 15,
      "outputs": [
        {
          "output_type": "execute_result",
          "data": {
            "text/plain": [
              "4"
            ]
          },
          "metadata": {},
          "execution_count": 15
        }
      ]
    },
    {
      "cell_type": "code",
      "source": [
        "matriz[1][1] # retorno a linha 2 e coluna 2"
      ],
      "metadata": {
        "colab": {
          "base_uri": "https://localhost:8080/"
        },
        "id": "EJ6QTQ1QyD2O",
        "outputId": "589cea83-9494-451a-9ba3-725707c0cc76"
      },
      "execution_count": 18,
      "outputs": [
        {
          "output_type": "execute_result",
          "data": {
            "text/plain": [
              "5"
            ]
          },
          "metadata": {},
          "execution_count": 18
        }
      ]
    },
    {
      "cell_type": "code",
      "source": [
        "# percorre todos os elementos em uma matriz"
      ],
      "metadata": {
        "id": "VkKEwRU9yVRB"
      },
      "execution_count": null,
      "outputs": []
    },
    {
      "cell_type": "code",
      "source": [
        "matriz.shape "
      ],
      "metadata": {
        "colab": {
          "base_uri": "https://localhost:8080/"
        },
        "id": "DzEm7p1fyi8H",
        "outputId": "488d6076-5717-49d2-9e60-a469d03370a9"
      },
      "execution_count": 20,
      "outputs": [
        {
          "output_type": "execute_result",
          "data": {
            "text/plain": [
              "(2, 3)"
            ]
          },
          "metadata": {},
          "execution_count": 20
        }
      ]
    },
    {
      "cell_type": "code",
      "source": [
        "# percorrendo todos os elementos da matriz\n",
        "for i in range(matriz.shape[0]): # percorrendo a linha da matriz\n",
        "  print(matriz[i]) # retorna as linhas da matriz\n",
        "  for j in range(matriz.shape[1]): # percorrendo a coluna da matriz\n",
        "    print(matriz[i][j]) # acessa cada elemento da coluna [2 3 1] e [4 5 7]"
      ],
      "metadata": {
        "colab": {
          "base_uri": "https://localhost:8080/"
        },
        "id": "jskeDeN9ymAm",
        "outputId": "d3300a12-26de-4680-e916-5daa2b03c439"
      },
      "execution_count": 28,
      "outputs": [
        {
          "output_type": "stream",
          "name": "stdout",
          "text": [
            "[2 3 1]\n",
            "2\n",
            "3\n",
            "1\n",
            "[4 5 7]\n",
            "4\n",
            "5\n",
            "7\n"
          ]
        }
      ]
    }
  ]
}
