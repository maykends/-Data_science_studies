{
  "nbformat": 4,
  "nbformat_minor": 0,
  "metadata": {
    "colab": {
      "provenance": [],
      "authorship_tag": "ABX9TyMYncZuFtASihqiS9+KKp24",
      "include_colab_link": true
    },
    "kernelspec": {
      "name": "python3",
      "display_name": "Python 3"
    },
    "language_info": {
      "name": "python"
    }
  },
  "cells": [
    {
      "cell_type": "markdown",
      "metadata": {
        "id": "view-in-github",
        "colab_type": "text"
      },
      "source": [
        "<a href=\"https://colab.research.google.com/github/maykends/-Data_science_studies/blob/main/290_Cole%C3%A7%C3%B5es.ipynb\" target=\"_parent\"><img src=\"https://colab.research.google.com/assets/colab-badge.svg\" alt=\"Open In Colab\"/></a>"
      ]
    },
    {
      "cell_type": "markdown",
      "source": [
        "# Coleções"
      ],
      "metadata": {
        "id": "J-ph5fxfQ_ZS"
      }
    },
    {
      "cell_type": "markdown",
      "source": [
        "Em Python, existem quatro tipos principais de coleções de dados: tuplas, listas, dicionários e conjuntos.\n",
        "\n",
        "- Tuplas são coleções ordenadas e imutáveis de elementos. Isso significa que uma vez que uma tupla é criada, ela não pode ser alterada. Você pode acessar elementos em uma tupla usando índices numéricos, semelhante às listas.\n",
        "\n",
        "- Listas são semelhantes às tuplas, mas são mutáveis, o que significa que você pode adicionar, remover ou alterar elementos em uma lista. As listas também são coleções ordenadas e podem ser acessadas usando índices numéricos.\n",
        "\n",
        "- Dicionários são coleções não ordenadas de pares de chave-valor. Cada elemento em um dicionário é uma combinação de uma chave única e um valor correspondente. Os valores em um dicionário são acessados usando suas chaves em vez de índices numéricos.\n",
        "\n",
        "- Conjuntos são coleções não ordenadas de elementos únicos. Isso significa que você não pode ter elementos duplicados em um conjunto. Os conjuntos também suportam operações matemáticas como união, interseção e diferença.\n",
        "\n",
        "Em resumo, a principal diferença entre esses tipos de coleções de dados é como eles armazenam e organizam os elementos. As tuplas são imutáveis e ordenadas, as listas são mutáveis e ordenadas, os dicionários são mutáveis e não ordenados e os conjuntos são mutáveis e não ordenados com elementos exclusivos."
      ],
      "metadata": {
        "id": "i3jJ_kPIZodb"
      }
    },
    {
      "cell_type": "markdown",
      "source": [
        "## Tuplas"
      ],
      "metadata": {
        "id": "OJ6VHSGTRB0i"
      }
    },
    {
      "cell_type": "code",
      "source": [
        "tupla = ('Homo sapiens', 'Canis familiaris', 'Felis catus')"
      ],
      "metadata": {
        "id": "8YfbwuzHRC1R"
      },
      "execution_count": 27,
      "outputs": []
    },
    {
      "cell_type": "code",
      "source": [
        "tupla"
      ],
      "metadata": {
        "colab": {
          "base_uri": "https://localhost:8080/"
        },
        "id": "_felijG0WSn1",
        "outputId": "ca01f097-c36f-4a72-a648-d44848cbf942"
      },
      "execution_count": 28,
      "outputs": [
        {
          "output_type": "execute_result",
          "data": {
            "text/plain": [
              "('Homo sapiens', 'Canis familiaris', 'Felis catus')"
            ]
          },
          "metadata": {},
          "execution_count": 28
        }
      ]
    },
    {
      "cell_type": "code",
      "source": [
        "tupla[0] # pesquisar pelo indice qual é o nome da espécie"
      ],
      "metadata": {
        "colab": {
          "base_uri": "https://localhost:8080/",
          "height": 35
        },
        "id": "nKvsx9MmWS4Z",
        "outputId": "d8feeb31-5216-428a-bf53-2cab94cd064f"
      },
      "execution_count": 5,
      "outputs": [
        {
          "output_type": "execute_result",
          "data": {
            "text/plain": [
              "'Homo sapiens'"
            ],
            "application/vnd.google.colaboratory.intrinsic+json": {
              "type": "string"
            }
          },
          "metadata": {},
          "execution_count": 5
        }
      ]
    },
    {
      "cell_type": "code",
      "source": [
        "tupla.index('Homo sapiens') # verificar o indice pelo nome da espécie"
      ],
      "metadata": {
        "colab": {
          "base_uri": "https://localhost:8080/"
        },
        "id": "yOh4e50kWofh",
        "outputId": "f87da203-9df2-4b3a-d932-e21c2efb41ee"
      },
      "execution_count": 29,
      "outputs": [
        {
          "output_type": "execute_result",
          "data": {
            "text/plain": [
              "0"
            ]
          },
          "metadata": {},
          "execution_count": 29
        }
      ]
    },
    {
      "cell_type": "code",
      "source": [
        "# percorre dnetro da lista \n",
        "\n",
        "for elemento in tupla:\n",
        "  print(elemento)"
      ],
      "metadata": {
        "colab": {
          "base_uri": "https://localhost:8080/"
        },
        "id": "V8mFyrtuW-bC",
        "outputId": "716a1ca9-4665-49fd-d6f4-dc8d6b57b326"
      },
      "execution_count": 30,
      "outputs": [
        {
          "output_type": "stream",
          "name": "stdout",
          "text": [
            "Homo sapiens\n",
            "Canis familiaris\n",
            "Felis catus\n"
          ]
        }
      ]
    },
    {
      "cell_type": "markdown",
      "source": [
        "## Listas"
      ],
      "metadata": {
        "id": "Vc45DOvZREs4"
      }
    },
    {
      "cell_type": "code",
      "source": [
        "l1 = tupla = ['Homo sapiens', 'Canis familiaris', 'Felis catus']\n",
        "l2 = ['Xenopus laevis', 'Ailuropoda melanoleuca']"
      ],
      "metadata": {
        "id": "Ha1aOCdzRC8B"
      },
      "execution_count": 31,
      "outputs": []
    },
    {
      "cell_type": "code",
      "source": [
        "# juntar as listas\n",
        "l3 = l1 + l2\n",
        "print(l3)"
      ],
      "metadata": {
        "colab": {
          "base_uri": "https://localhost:8080/"
        },
        "id": "OzntMtW5Xm6p",
        "outputId": "6879c799-353d-48a0-eab7-e18ed5762852"
      },
      "execution_count": 32,
      "outputs": [
        {
          "output_type": "stream",
          "name": "stdout",
          "text": [
            "['Homo sapiens', 'Canis familiaris', 'Felis catus', 'Xenopus laevis', 'Ailuropoda melanoleuca']\n"
          ]
        }
      ]
    },
    {
      "cell_type": "code",
      "source": [
        "l2"
      ],
      "metadata": {
        "colab": {
          "base_uri": "https://localhost:8080/"
        },
        "id": "SX46vYf0Xw35",
        "outputId": "7a9cdc6a-f78a-40dd-a7a6-2ec3789ebae9"
      },
      "execution_count": 33,
      "outputs": [
        {
          "output_type": "execute_result",
          "data": {
            "text/plain": [
              "['Xenopus laevis', 'Ailuropoda melanoleuca']"
            ]
          },
          "metadata": {},
          "execution_count": 33
        }
      ]
    },
    {
      "cell_type": "code",
      "source": [
        "l2_2 = l2 * 2\n",
        "print(l2_2)"
      ],
      "metadata": {
        "colab": {
          "base_uri": "https://localhost:8080/"
        },
        "id": "46oJPUZiXyG6",
        "outputId": "57639476-3675-4699-a692-41dbccd5ebd5"
      },
      "execution_count": 34,
      "outputs": [
        {
          "output_type": "stream",
          "name": "stdout",
          "text": [
            "['Xenopus laevis', 'Ailuropoda melanoleuca', 'Xenopus laevis', 'Ailuropoda melanoleuca']\n"
          ]
        }
      ]
    },
    {
      "cell_type": "code",
      "source": [
        "# Para acessar elementos\n",
        "l1[0]"
      ],
      "metadata": {
        "colab": {
          "base_uri": "https://localhost:8080/",
          "height": 35
        },
        "id": "AG-nA5CEYBbS",
        "outputId": "1653b1c5-de5c-49ee-96d2-a50a81ef8352"
      },
      "execution_count": 35,
      "outputs": [
        {
          "output_type": "execute_result",
          "data": {
            "text/plain": [
              "'Homo sapiens'"
            ],
            "application/vnd.google.colaboratory.intrinsic+json": {
              "type": "string"
            }
          },
          "metadata": {},
          "execution_count": 35
        }
      ]
    },
    {
      "cell_type": "code",
      "source": [
        "l1"
      ],
      "metadata": {
        "colab": {
          "base_uri": "https://localhost:8080/"
        },
        "id": "mS_zxFjsYHlw",
        "outputId": "745ae22e-5cb7-4c4a-e561-a2f9a90d6516"
      },
      "execution_count": 36,
      "outputs": [
        {
          "output_type": "execute_result",
          "data": {
            "text/plain": [
              "['Homo sapiens', 'Canis familiaris', 'Felis catus']"
            ]
          },
          "metadata": {},
          "execution_count": 36
        }
      ]
    },
    {
      "cell_type": "code",
      "source": [
        "l1[0:2]"
      ],
      "metadata": {
        "colab": {
          "base_uri": "https://localhost:8080/"
        },
        "id": "f8BMMxANYJKJ",
        "outputId": "3fa63c9c-9ee6-40fe-80ca-19ab14120a2d"
      },
      "execution_count": 37,
      "outputs": [
        {
          "output_type": "execute_result",
          "data": {
            "text/plain": [
              "['Homo sapiens', 'Canis familiaris']"
            ]
          },
          "metadata": {},
          "execution_count": 37
        }
      ]
    },
    {
      "cell_type": "code",
      "source": [
        "# Adicionando elementos a uma lista\n",
        "l1.append('Gorila gorila')\n",
        "print(l1)"
      ],
      "metadata": {
        "colab": {
          "base_uri": "https://localhost:8080/"
        },
        "id": "ozEJcH1oYTd6",
        "outputId": "19a300cd-0cab-4a82-e68b-36a2e39ed9c2"
      },
      "execution_count": 38,
      "outputs": [
        {
          "output_type": "stream",
          "name": "stdout",
          "text": [
            "['Homo sapiens', 'Canis familiaris', 'Felis catus', 'Gorila gorila']\n"
          ]
        }
      ]
    },
    {
      "cell_type": "code",
      "source": [
        "# Remover um elemento de uma lista\n",
        "l1.remove('Felis catus')\n",
        "print(l1)"
      ],
      "metadata": {
        "colab": {
          "base_uri": "https://localhost:8080/"
        },
        "id": "UsSMh6aNYfyh",
        "outputId": "3a9740f9-1f0e-4f73-dd86-65c2a2545ffb"
      },
      "execution_count": 39,
      "outputs": [
        {
          "output_type": "stream",
          "name": "stdout",
          "text": [
            "['Homo sapiens', 'Canis familiaris', 'Gorila gorila']\n"
          ]
        }
      ]
    },
    {
      "cell_type": "code",
      "source": [
        "# Remover uma lista por inteiro\n",
        "del(l1)"
      ],
      "metadata": {
        "id": "08ObYNomYrxF"
      },
      "execution_count": 40,
      "outputs": []
    },
    {
      "cell_type": "code",
      "source": [
        "print(l1) # Erro por conta que a lista não existe mais"
      ],
      "metadata": {
        "colab": {
          "base_uri": "https://localhost:8080/",
          "height": 165
        },
        "id": "pol1BeuuYwTh",
        "outputId": "5478f50e-fcd6-4ef6-ee2f-38eddd1e5715"
      },
      "execution_count": 42,
      "outputs": [
        {
          "output_type": "error",
          "ename": "NameError",
          "evalue": "ignored",
          "traceback": [
            "\u001b[0;31m---------------------------------------------------------------------------\u001b[0m",
            "\u001b[0;31mNameError\u001b[0m                                 Traceback (most recent call last)",
            "\u001b[0;32m<ipython-input-42-079eca245cb1>\u001b[0m in \u001b[0;36m<cell line: 1>\u001b[0;34m()\u001b[0m\n\u001b[0;32m----> 1\u001b[0;31m \u001b[0mprint\u001b[0m\u001b[0;34m(\u001b[0m\u001b[0ml1\u001b[0m\u001b[0;34m)\u001b[0m \u001b[0;31m# Erro por conta que a lista não existe mais\u001b[0m\u001b[0;34m\u001b[0m\u001b[0;34m\u001b[0m\u001b[0m\n\u001b[0m",
            "\u001b[0;31mNameError\u001b[0m: name 'l1' is not defined"
          ]
        }
      ]
    },
    {
      "cell_type": "code",
      "source": [
        "# percorrendo listas\n",
        "for item in l2_2:\n",
        "  print(item)"
      ],
      "metadata": {
        "colab": {
          "base_uri": "https://localhost:8080/"
        },
        "id": "5QbGFB84ZHIy",
        "outputId": "622fce08-b729-422d-8fcd-8be5b5b7d57c"
      },
      "execution_count": 46,
      "outputs": [
        {
          "output_type": "stream",
          "name": "stdout",
          "text": [
            "Xenopus laevis\n",
            "Ailuropoda melanoleuca\n",
            "Xenopus laevis\n",
            "Ailuropoda melanoleuca\n"
          ]
        }
      ]
    },
    {
      "cell_type": "markdown",
      "source": [
        "## Dicionários"
      ],
      "metadata": {
        "id": "MY2druC_RIEx"
      }
    },
    {
      "cell_type": "code",
      "source": [
        "coleta = {'Aedes aegypt': 32, 'Aedes albopictus': 22, 'Anopheles darlingi': 14}"
      ],
      "metadata": {
        "id": "rsNwoUyZRHxQ"
      },
      "execution_count": 47,
      "outputs": []
    },
    {
      "cell_type": "code",
      "source": [
        "coleta['Aedes aegypt'] # retorna a quantidade de amostras"
      ],
      "metadata": {
        "colab": {
          "base_uri": "https://localhost:8080/"
        },
        "id": "s_OE-G22fJlZ",
        "outputId": "2dbe59bf-dcb8-4965-a2d2-19f36221718e"
      },
      "execution_count": 48,
      "outputs": [
        {
          "output_type": "execute_result",
          "data": {
            "text/plain": [
              "32"
            ]
          },
          "metadata": {},
          "execution_count": 48
        }
      ]
    },
    {
      "cell_type": "code",
      "source": [
        "# Adicinando um novo regristo ao dicionário\n",
        "coleta['Rhodnius montenegrensis'] = 11"
      ],
      "metadata": {
        "id": "T-BLX3VCfJnF"
      },
      "execution_count": 49,
      "outputs": []
    },
    {
      "cell_type": "code",
      "source": [
        "print(coleta)"
      ],
      "metadata": {
        "colab": {
          "base_uri": "https://localhost:8080/"
        },
        "id": "cmoRWZrkfJos",
        "outputId": "40c40e1f-5c6b-49c5-9193-21996669c3c4"
      },
      "execution_count": 50,
      "outputs": [
        {
          "output_type": "stream",
          "name": "stdout",
          "text": [
            "{'Aedes aegypt': 32, 'Aedes albopictus': 22, 'Anopheles darlingi': 14, 'Rhodnius montenegrensis': 11}\n"
          ]
        }
      ]
    },
    {
      "cell_type": "code",
      "source": [
        "del(coleta)['Aedes albopictus']\n",
        "print(coleta)"
      ],
      "metadata": {
        "colab": {
          "base_uri": "https://localhost:8080/"
        },
        "id": "cJU03VPUirq-",
        "outputId": "d1bc84ca-455b-476b-8e10-edf659d42aa1"
      },
      "execution_count": 51,
      "outputs": [
        {
          "output_type": "stream",
          "name": "stdout",
          "text": [
            "{'Aedes aegypt': 32, 'Anopheles darlingi': 14, 'Rhodnius montenegrensis': 11}\n"
          ]
        }
      ]
    },
    {
      "cell_type": "code",
      "source": [
        "# Visualizar o dicionário completo\n",
        "coleta.items()"
      ],
      "metadata": {
        "colab": {
          "base_uri": "https://localhost:8080/"
        },
        "id": "PN_hxsBGisHT",
        "outputId": "0680267f-c9cc-455a-fc15-60e820dcc5bd"
      },
      "execution_count": 54,
      "outputs": [
        {
          "output_type": "execute_result",
          "data": {
            "text/plain": [
              "dict_items([('Aedes aegypt', 32), ('Anopheles darlingi', 14), ('Rhodnius montenegrensis', 11)])"
            ]
          },
          "metadata": {},
          "execution_count": 54
        }
      ]
    },
    {
      "cell_type": "code",
      "source": [
        "# visualiza apenas as chaves sem os valores\n",
        "coleta.keys()"
      ],
      "metadata": {
        "colab": {
          "base_uri": "https://localhost:8080/"
        },
        "id": "cQ7j6SpeisOE",
        "outputId": "a7a251ba-e3e3-4dce-e3f1-95f3395a99b0"
      },
      "execution_count": 55,
      "outputs": [
        {
          "output_type": "execute_result",
          "data": {
            "text/plain": [
              "dict_keys(['Aedes aegypt', 'Anopheles darlingi', 'Rhodnius montenegrensis'])"
            ]
          },
          "metadata": {},
          "execution_count": 55
        }
      ]
    },
    {
      "cell_type": "code",
      "source": [
        "# visualiza apenas os valores sem as chaves\n",
        "coleta.values()"
      ],
      "metadata": {
        "colab": {
          "base_uri": "https://localhost:8080/"
        },
        "id": "B0y-IW3AitHb",
        "outputId": "a1c7386d-de72-4c82-9a44-26fca5d21ddb"
      },
      "execution_count": 57,
      "outputs": [
        {
          "output_type": "execute_result",
          "data": {
            "text/plain": [
              "dict_values([32, 14, 11])"
            ]
          },
          "metadata": {},
          "execution_count": 57
        }
      ]
    },
    {
      "cell_type": "code",
      "source": [
        "# criando um novo dicioário\n",
        "coleta2 = {'Anopheles gambiae': 13, 'Anopheles deaneorum': 14}\n",
        "print(coleta2)"
      ],
      "metadata": {
        "colab": {
          "base_uri": "https://localhost:8080/"
        },
        "id": "shqj9Rr5itRD",
        "outputId": "3615bf95-c3f5-44ec-e3f4-67cd9a9a14ef"
      },
      "execution_count": 58,
      "outputs": [
        {
          "output_type": "stream",
          "name": "stdout",
          "text": [
            "{'Anopheles gambiae': 13, 'Anopheles deaneorum': 14}\n"
          ]
        }
      ]
    },
    {
      "cell_type": "code",
      "source": [
        "# junção de dois dicionários\n",
        "coleta.update(coleta2)\n",
        "print(coleta)"
      ],
      "metadata": {
        "colab": {
          "base_uri": "https://localhost:8080/"
        },
        "id": "li8c2BvvitZL",
        "outputId": "32567d8a-4564-47be-f4a2-03e158f7ad8a"
      },
      "execution_count": 61,
      "outputs": [
        {
          "output_type": "stream",
          "name": "stdout",
          "text": [
            "{'Aedes aegypt': 32, 'Anopheles darlingi': 14, 'Rhodnius montenegrensis': 11, 'Anopheles gambiae': 13, 'Anopheles deaneorum': 14}\n"
          ]
        }
      ]
    },
    {
      "cell_type": "code",
      "source": [
        "# Percorrer um dicioário\n",
        "coleta.items() # retorna o conjunto chave e valor"
      ],
      "metadata": {
        "colab": {
          "base_uri": "https://localhost:8080/"
        },
        "id": "KxIsIcLtp7JE",
        "outputId": "54d4da7f-04e8-44cd-939b-f64ac5e9e913"
      },
      "execution_count": 63,
      "outputs": [
        {
          "output_type": "execute_result",
          "data": {
            "text/plain": [
              "dict_items([('Aedes aegypt', 32), ('Anopheles darlingi', 14), ('Rhodnius montenegrensis', 11), ('Anopheles gambiae', 13), ('Anopheles deaneorum', 14)])"
            ]
          },
          "metadata": {},
          "execution_count": 63
        }
      ]
    },
    {
      "cell_type": "code",
      "source": [
        "for especie, num_especimes in coleta.items(): # especie faz referencia ao nome, num_especimes faz referencia a quantidade da coleta de cada uma\n",
        "  print(f'Epécie: {especie}, número de espécimes coletados: {num_especimes}')"
      ],
      "metadata": {
        "colab": {
          "base_uri": "https://localhost:8080/"
        },
        "id": "Db-Ew5kHqEpU",
        "outputId": "45471d81-8cd3-4dda-efb7-8cd5aaa77ffc"
      },
      "execution_count": 64,
      "outputs": [
        {
          "output_type": "stream",
          "name": "stdout",
          "text": [
            "Epécie: Aedes aegypt, número de espécimes coletados: 32\n",
            "Epécie: Anopheles darlingi, número de espécimes coletados: 14\n",
            "Epécie: Rhodnius montenegrensis, número de espécimes coletados: 11\n",
            "Epécie: Anopheles gambiae, número de espécimes coletados: 13\n",
            "Epécie: Anopheles deaneorum, número de espécimes coletados: 14\n"
          ]
        }
      ]
    },
    {
      "cell_type": "markdown",
      "source": [
        "## Conjuntos (set)"
      ],
      "metadata": {
        "id": "BPBh5-OKRLJY"
      }
    },
    {
      "cell_type": "code",
      "source": [
        "biomeleculas = ('proteína', 'ácidos nucleicos', 'carboidrato', 'lipídeo',\n",
        "                'ácidos nucleicos', 'carboidrato', 'carboidrato', 'carboidrato')"
      ],
      "metadata": {
        "id": "THAoGEAwRC-J"
      },
      "execution_count": 66,
      "outputs": []
    },
    {
      "cell_type": "code",
      "source": [
        "print(biomeleculas)"
      ],
      "metadata": {
        "colab": {
          "base_uri": "https://localhost:8080/"
        },
        "id": "ef1pYavbqtWF",
        "outputId": "7ae4c049-ff40-47df-c21d-aa5c9684cc6d"
      },
      "execution_count": 67,
      "outputs": [
        {
          "output_type": "stream",
          "name": "stdout",
          "text": [
            "('proteína', 'ácidos nucleicos', 'carboidrato', 'lipídeo', 'ácidos nucleicos', 'carboidrato', 'carboidrato', 'carboidrato')\n"
          ]
        }
      ]
    },
    {
      "cell_type": "code",
      "source": [
        "# retornar somente os elementos que não se repetem\n",
        "print(set(biomeleculas)) # o set para esse caso significa conjunto "
      ],
      "metadata": {
        "colab": {
          "base_uri": "https://localhost:8080/"
        },
        "id": "4_WnyeKDqtdV",
        "outputId": "9a7da72b-c80d-4f5f-a336-306e9b406e60"
      },
      "execution_count": 68,
      "outputs": [
        {
          "output_type": "stream",
          "name": "stdout",
          "text": [
            "{'carboidrato', 'ácidos nucleicos', 'lipídeo', 'proteína'}\n"
          ]
        }
      ]
    },
    {
      "cell_type": "code",
      "source": [
        "c1 = {1,2,3,4,5} # criando conjunto 01\n",
        "c2 = {3,4,5,6,7} # criando conjunto 02\n",
        "c3 = c1.intersection(c2) # criando conjunto 03 que vai receber o conjunto 01 passando o conjunto 02"
      ],
      "metadata": {
        "id": "V6prRC7Dqtl1"
      },
      "execution_count": 70,
      "outputs": []
    },
    {
      "cell_type": "code",
      "source": [
        "print(c3) # (intersection) retorna somente os elementos que estão nos dois conjuntos "
      ],
      "metadata": {
        "colab": {
          "base_uri": "https://localhost:8080/"
        },
        "id": "9i7C0Yukqttm",
        "outputId": "9e74599a-1702-4a60-b045-1b53a17feb24"
      },
      "execution_count": 71,
      "outputs": [
        {
          "output_type": "stream",
          "name": "stdout",
          "text": [
            "{3, 4, 5}\n"
          ]
        }
      ]
    },
    {
      "cell_type": "code",
      "source": [
        "# Cálculo da diferença\n",
        "c1.difference(c2) # Verifica no c2 o conteúdo que 1 não possui no 2"
      ],
      "metadata": {
        "colab": {
          "base_uri": "https://localhost:8080/"
        },
        "id": "qhaELIXQsqQI",
        "outputId": "0b8473bb-b61b-4560-f7c6-525804285345"
      },
      "execution_count": 74,
      "outputs": [
        {
          "output_type": "execute_result",
          "data": {
            "text/plain": [
              "{1, 2}"
            ]
          },
          "metadata": {},
          "execution_count": 74
        }
      ]
    },
    {
      "cell_type": "code",
      "source": [
        "# Cálculo da diferença\n",
        "c2.difference(c1) # Verifica no c1 o conteúdo que 2 não possui no 1"
      ],
      "metadata": {
        "colab": {
          "base_uri": "https://localhost:8080/"
        },
        "id": "hZYFIsGXqt1V",
        "outputId": "590744dd-32de-45fd-e0f1-e6ad3694be2f"
      },
      "execution_count": 75,
      "outputs": [
        {
          "output_type": "execute_result",
          "data": {
            "text/plain": [
              "{6, 7}"
            ]
          },
          "metadata": {},
          "execution_count": 75
        }
      ]
    }
  ]
}
