{
  "nbformat": 4,
  "nbformat_minor": 0,
  "metadata": {
    "colab": {
      "provenance": [],
      "authorship_tag": "ABX9TyN6Ca/7rq/17tq98ZA8GH4H",
      "include_colab_link": true
    },
    "kernelspec": {
      "name": "python3",
      "display_name": "Python 3"
    },
    "language_info": {
      "name": "python"
    }
  },
  "cells": [
    {
      "cell_type": "markdown",
      "metadata": {
        "id": "view-in-github",
        "colab_type": "text"
      },
      "source": [
        "<a href=\"https://colab.research.google.com/github/maykends/-Data_science_studies/blob/main/286_Estrutura_de_repeti%C3%A7%C3%A3o_for.ipynb\" target=\"_parent\"><img src=\"https://colab.research.google.com/assets/colab-badge.svg\" alt=\"Open In Colab\"/></a>"
      ]
    },
    {
      "cell_type": "markdown",
      "source": [
        "# Estruturas de repetição - for"
      ],
      "metadata": {
        "id": "8B9KyUYm_AXI"
      }
    },
    {
      "cell_type": "code",
      "execution_count": 2,
      "metadata": {
        "colab": {
          "base_uri": "https://localhost:8080/"
        },
        "id": "fRaw3APLvSjj",
        "outputId": "29d3e0c2-5f04-43b2-94f4-b9a8de6674d3"
      },
      "outputs": [
        {
          "output_type": "stream",
          "name": "stdout",
          "text": [
            "1\n",
            "2\n",
            "3\n",
            "4\n",
            "5\n"
          ]
        }
      ],
      "source": [
        "print(1)\n",
        "print(2)\n",
        "print(3)\n",
        "print(4)\n",
        "print(5)"
      ]
    },
    {
      "cell_type": "code",
      "source": [
        "# para o número que está na faixa de 1 até 6\n",
        "for numero in range(1, 6): # Note que ele não mostra até o número 6 Upper Bound não é levado em consideração\n",
        "  print(numero)"
      ],
      "metadata": {
        "colab": {
          "base_uri": "https://localhost:8080/"
        },
        "id": "3E_tOUIG8SKr",
        "outputId": "5ab6ccad-ac20-4bde-98a8-80366a3cc2c3"
      },
      "execution_count": 16,
      "outputs": [
        {
          "output_type": "stream",
          "name": "stdout",
          "text": [
            "1\n",
            "2\n",
            "3\n",
            "4\n",
            "5\n"
          ]
        }
      ]
    },
    {
      "cell_type": "code",
      "source": [
        "# realiza contagem do 5 até o 0, o zero é equivalente a 1\n",
        "for numero in range(5, 0, -1): #(x, y, z) o Z é step de quanto em quanto que deseja incrementar o valor\n",
        "  print(numero)"
      ],
      "metadata": {
        "colab": {
          "base_uri": "https://localhost:8080/"
        },
        "id": "-JoDaD1m8SNG",
        "outputId": "c0221321-ace7-478e-974b-18dfff1b006e"
      },
      "execution_count": 17,
      "outputs": [
        {
          "output_type": "stream",
          "name": "stdout",
          "text": [
            "5\n",
            "4\n",
            "3\n",
            "2\n",
            "1\n"
          ]
        }
      ]
    },
    {
      "cell_type": "code",
      "source": [
        "5 + 4 + 3 + 2 + 1"
      ],
      "metadata": {
        "colab": {
          "base_uri": "https://localhost:8080/"
        },
        "id": "Zt9qOGes8SPO",
        "outputId": "747b6a12-9f89-435e-ecb9-cfb3b05672db"
      },
      "execution_count": 18,
      "outputs": [
        {
          "output_type": "execute_result",
          "data": {
            "text/plain": [
              "15"
            ]
          },
          "metadata": {},
          "execution_count": 18
        }
      ]
    },
    {
      "cell_type": "code",
      "source": [
        "soma = 0 # inicializando a variável com o valor 0 \n",
        "for numero in range(1,6): # para o número que está na faixa de 1 até 6\n",
        "  soma = soma + numero # a variavel soma recebe soma = o numero da faixa\n",
        "  print(soma) # mostra o valor parcial\n",
        "  \n",
        "print(soma)"
      ],
      "metadata": {
        "colab": {
          "base_uri": "https://localhost:8080/"
        },
        "id": "fQyO4pD98SRu",
        "outputId": "a8388688-0000-4839-a435-ed99941574ba"
      },
      "execution_count": 24,
      "outputs": [
        {
          "output_type": "stream",
          "name": "stdout",
          "text": [
            "1\n",
            "3\n",
            "6\n",
            "10\n",
            "15\n",
            "15\n"
          ]
        }
      ]
    },
    {
      "cell_type": "code",
      "source": [
        "palavra = 'sorvete' \n",
        "for letra in palavra: # fazendo varredura nas letras da palavra\n",
        "  print(letra)"
      ],
      "metadata": {
        "colab": {
          "base_uri": "https://localhost:8080/"
        },
        "id": "WVeOtGxp8STp",
        "outputId": "dff07937-3e32-4af5-8ab6-02f02bae4eac"
      },
      "execution_count": 25,
      "outputs": [
        {
          "output_type": "stream",
          "name": "stdout",
          "text": [
            "s\n",
            "o\n",
            "r\n",
            "v\n",
            "e\n",
            "t\n",
            "e\n"
          ]
        }
      ]
    },
    {
      "cell_type": "code",
      "source": [
        "palavra = 'sorvete' \n",
        "for letra in palavra: \n",
        "  #print(letra)\n",
        "  if letra == 'v':\n",
        "    print('Achou a letra v')"
      ],
      "metadata": {
        "colab": {
          "base_uri": "https://localhost:8080/"
        },
        "id": "Dq4f1CkY8SWL",
        "outputId": "8fec4701-dcc3-4ccf-8bbd-1ac770bb6ddf"
      },
      "execution_count": 27,
      "outputs": [
        {
          "output_type": "stream",
          "name": "stdout",
          "text": [
            "Achou a letra v\n"
          ]
        }
      ]
    },
    {
      "cell_type": "code",
      "source": [
        "# FOR aninhado, ou seja, um FOR dentro do outro\n",
        "for i in range (0, 5):\n",
        "  print(i)\n",
        "  print('----')\n",
        "  for j in range(0,3): # essa lógica é usado para matriz\n",
        "    print(j)\n",
        "  print()"
      ],
      "metadata": {
        "colab": {
          "base_uri": "https://localhost:8080/"
        },
        "id": "2DUPo2i2CtD1",
        "outputId": "2a91e277-24c2-4188-a8af-2692666390fb"
      },
      "execution_count": 33,
      "outputs": [
        {
          "output_type": "stream",
          "name": "stdout",
          "text": [
            "0\n",
            "----\n",
            "0\n",
            "1\n",
            "2\n",
            "\n",
            "1\n",
            "----\n",
            "0\n",
            "1\n",
            "2\n",
            "\n",
            "2\n",
            "----\n",
            "0\n",
            "1\n",
            "2\n",
            "\n",
            "3\n",
            "----\n",
            "0\n",
            "1\n",
            "2\n",
            "\n",
            "4\n",
            "----\n",
            "0\n",
            "1\n",
            "2\n",
            "\n"
          ]
        }
      ]
    }
  ]
}
