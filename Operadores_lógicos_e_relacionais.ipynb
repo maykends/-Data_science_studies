{
  "nbformat": 4,
  "nbformat_minor": 0,
  "metadata": {
    "colab": {
      "provenance": [],
      "authorship_tag": "ABX9TyPwLYQ5qatBGvHDCU8TkM06",
      "include_colab_link": true
    },
    "kernelspec": {
      "name": "python3",
      "display_name": "Python 3"
    },
    "language_info": {
      "name": "python"
    }
  },
  "cells": [
    {
      "cell_type": "markdown",
      "metadata": {
        "id": "view-in-github",
        "colab_type": "text"
      },
      "source": [
        "<a href=\"https://colab.research.google.com/github/maykends/-Data_science_studies/blob/main/Operadores_l%C3%B3gicos_e_relacionais.ipynb\" target=\"_parent\"><img src=\"https://colab.research.google.com/assets/colab-badge.svg\" alt=\"Open In Colab\"/></a>"
      ]
    },
    {
      "cell_type": "markdown",
      "source": [
        "# Operadores lógicos e relacionais"
      ],
      "metadata": {
        "id": "_01bcU0oO36f"
      }
    },
    {
      "cell_type": "markdown",
      "source": [
        "## Operadores lógicos"
      ],
      "metadata": {
        "id": "7UmCS--BO8Wt"
      }
    },
    {
      "cell_type": "code",
      "source": [
        "a = True # operadores lógicos tem que usar a primeira letra maiuscula na pr\n",
        "b = False"
      ],
      "metadata": {
        "id": "tH_7MZKTO6nA"
      },
      "execution_count": 2,
      "outputs": []
    },
    {
      "cell_type": "code",
      "source": [
        "print(a,b)"
      ],
      "metadata": {
        "colab": {
          "base_uri": "https://localhost:8080/"
        },
        "id": "6Rfcve1hO9Qf",
        "outputId": "71045c6c-eb5c-4996-862a-0aaaf8213956"
      },
      "execution_count": 3,
      "outputs": [
        {
          "output_type": "stream",
          "name": "stdout",
          "text": [
            "True False\n"
          ]
        }
      ]
    },
    {
      "cell_type": "code",
      "source": [
        "a and b # retorna falso por conta que o and só aceita True"
      ],
      "metadata": {
        "colab": {
          "base_uri": "https://localhost:8080/"
        },
        "id": "IhjM-1vIO9SW",
        "outputId": "07a8dcb7-56f6-415d-f517-6d96d7012e59"
      },
      "execution_count": 4,
      "outputs": [
        {
          "output_type": "execute_result",
          "data": {
            "text/plain": [
              "False"
            ]
          },
          "metadata": {},
          "execution_count": 4
        }
      ]
    },
    {
      "cell_type": "code",
      "source": [
        "a & b # retorna falso por conta que o & só aceita True"
      ],
      "metadata": {
        "colab": {
          "base_uri": "https://localhost:8080/"
        },
        "id": "gPN98T6oO9T3",
        "outputId": "ae76f59a-83d2-4cbb-c61a-6342e91c5e4b"
      },
      "execution_count": 5,
      "outputs": [
        {
          "output_type": "execute_result",
          "data": {
            "text/plain": [
              "False"
            ]
          },
          "metadata": {},
          "execution_count": 5
        }
      ]
    },
    {
      "cell_type": "code",
      "source": [
        "c = a and b\n",
        "print(\"'A' e 'B' são iguais é\", c) # as '' simples dentro de \"\" duplas para uma melhor elaboração"
      ],
      "metadata": {
        "colab": {
          "base_uri": "https://localhost:8080/"
        },
        "id": "z9FK0p_-O9Vf",
        "outputId": "caa846a2-0711-45bc-ddd3-2a8ad707a1ad"
      },
      "execution_count": 7,
      "outputs": [
        {
          "output_type": "stream",
          "name": "stdout",
          "text": [
            "'A' e 'B' são iguais é False\n"
          ]
        }
      ]
    },
    {
      "cell_type": "code",
      "source": [
        "a or b # só retorna True se um ou outro dor verdadeiro"
      ],
      "metadata": {
        "colab": {
          "base_uri": "https://localhost:8080/"
        },
        "id": "JqwEiSPPO9XO",
        "outputId": "c8a111f0-0bf0-493e-e799-e85c7904162b"
      },
      "execution_count": 8,
      "outputs": [
        {
          "output_type": "execute_result",
          "data": {
            "text/plain": [
              "True"
            ]
          },
          "metadata": {},
          "execution_count": 8
        }
      ]
    },
    {
      "cell_type": "code",
      "source": [
        "a | b # a barra significa OR"
      ],
      "metadata": {
        "colab": {
          "base_uri": "https://localhost:8080/"
        },
        "id": "KhP5jq2EO9ZJ",
        "outputId": "cf981a2d-2a45-4df3-d776-28e4083bbdcb"
      },
      "execution_count": 9,
      "outputs": [
        {
          "output_type": "execute_result",
          "data": {
            "text/plain": [
              "True"
            ]
          },
          "metadata": {},
          "execution_count": 9
        }
      ]
    },
    {
      "cell_type": "code",
      "source": [
        "d = a or B\n",
        "print(\"'A' ou 'B' é igual a\",d)"
      ],
      "metadata": {
        "colab": {
          "base_uri": "https://localhost:8080/"
        },
        "id": "H1Bk55QHO9av",
        "outputId": "3c66f84e-8237-4079-e833-444a9c07c632"
      },
      "execution_count": 11,
      "outputs": [
        {
          "output_type": "stream",
          "name": "stdout",
          "text": [
            "'A' ou 'B' é igual a True\n"
          ]
        }
      ]
    },
    {
      "cell_type": "code",
      "source": [
        "# negação antes True, agora False\n",
        "not a"
      ],
      "metadata": {
        "colab": {
          "base_uri": "https://localhost:8080/"
        },
        "id": "2DxICyXmQsSj",
        "outputId": "8f963c41-efcd-40ca-ed38-facc6525724f"
      },
      "execution_count": 12,
      "outputs": [
        {
          "output_type": "execute_result",
          "data": {
            "text/plain": [
              "False"
            ]
          },
          "metadata": {},
          "execution_count": 12
        }
      ]
    },
    {
      "cell_type": "code",
      "source": [
        "# negação antes False, agora True\n",
        "not b"
      ],
      "metadata": {
        "colab": {
          "base_uri": "https://localhost:8080/"
        },
        "id": "lm5gcGwNQsYb",
        "outputId": "094da916-3827-44ad-9209-37beb7033086"
      },
      "execution_count": 13,
      "outputs": [
        {
          "output_type": "execute_result",
          "data": {
            "text/plain": [
              "True"
            ]
          },
          "metadata": {},
          "execution_count": 13
        }
      ]
    },
    {
      "cell_type": "markdown",
      "source": [
        "## Operadores relacionais"
      ],
      "metadata": {
        "id": "mX8iC0BjPF1w"
      }
    },
    {
      "cell_type": "code",
      "source": [
        "5 > 3"
      ],
      "metadata": {
        "colab": {
          "base_uri": "https://localhost:8080/"
        },
        "id": "8IrzS93KPHMC",
        "outputId": "c436ce3d-5722-4641-c1ff-5167e9e48352"
      },
      "execution_count": 15,
      "outputs": [
        {
          "output_type": "execute_result",
          "data": {
            "text/plain": [
              "True"
            ]
          },
          "metadata": {},
          "execution_count": 15
        }
      ]
    },
    {
      "cell_type": "code",
      "source": [
        "5 < 3"
      ],
      "metadata": {
        "colab": {
          "base_uri": "https://localhost:8080/"
        },
        "id": "oYQuOOfzRMpW",
        "outputId": "7d671509-9132-487c-b532-535e85e05664"
      },
      "execution_count": 16,
      "outputs": [
        {
          "output_type": "execute_result",
          "data": {
            "text/plain": [
              "False"
            ]
          },
          "metadata": {},
          "execution_count": 16
        }
      ]
    },
    {
      "cell_type": "code",
      "source": [
        "5 >= 5"
      ],
      "metadata": {
        "colab": {
          "base_uri": "https://localhost:8080/"
        },
        "id": "NiKGzWr8RMrI",
        "outputId": "5f33682b-4eb0-443e-a497-2a971c88a98a"
      },
      "execution_count": 17,
      "outputs": [
        {
          "output_type": "execute_result",
          "data": {
            "text/plain": [
              "True"
            ]
          },
          "metadata": {},
          "execution_count": 17
        }
      ]
    },
    {
      "cell_type": "code",
      "source": [
        "5 <= 3"
      ],
      "metadata": {
        "colab": {
          "base_uri": "https://localhost:8080/"
        },
        "id": "CuJh0Q4XRMtz",
        "outputId": "fee2317f-4919-4875-d0e6-05854702613f"
      },
      "execution_count": 18,
      "outputs": [
        {
          "output_type": "execute_result",
          "data": {
            "text/plain": [
              "False"
            ]
          },
          "metadata": {},
          "execution_count": 18
        }
      ]
    },
    {
      "cell_type": "code",
      "source": [
        "5 == 3"
      ],
      "metadata": {
        "colab": {
          "base_uri": "https://localhost:8080/"
        },
        "id": "qHoH1X0vRMv9",
        "outputId": "40062a4c-4559-4bf0-ff0e-412d6f83f86a"
      },
      "execution_count": 19,
      "outputs": [
        {
          "output_type": "execute_result",
          "data": {
            "text/plain": [
              "False"
            ]
          },
          "metadata": {},
          "execution_count": 19
        }
      ]
    },
    {
      "cell_type": "code",
      "source": [
        "5 != 3"
      ],
      "metadata": {
        "colab": {
          "base_uri": "https://localhost:8080/"
        },
        "id": "37ilsstrRMyP",
        "outputId": "b4dd09a9-c292-43b2-a774-dd0af6c1ed3b"
      },
      "execution_count": 20,
      "outputs": [
        {
          "output_type": "execute_result",
          "data": {
            "text/plain": [
              "True"
            ]
          },
          "metadata": {},
          "execution_count": 20
        }
      ]
    }
  ]
}