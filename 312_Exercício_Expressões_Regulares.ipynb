{
  "nbformat": 4,
  "nbformat_minor": 0,
  "metadata": {
    "colab": {
      "provenance": [],
      "include_colab_link": true
    },
    "kernelspec": {
      "name": "python3",
      "display_name": "Python 3"
    }
  },
  "cells": [
    {
      "cell_type": "markdown",
      "metadata": {
        "id": "view-in-github",
        "colab_type": "text"
      },
      "source": [
        "<a href=\"https://colab.research.google.com/github/maykends/-Data_science_studies/blob/main/312_Exerc%C3%ADcio_Express%C3%B5es_Regulares.ipynb\" target=\"_parent\"><img src=\"https://colab.research.google.com/assets/colab-badge.svg\" alt=\"Open In Colab\"/></a>"
      ]
    },
    {
      "cell_type": "markdown",
      "metadata": {
        "id": "WvOV4VN9sHvj"
      },
      "source": [
        "# Exercícios\n",
        "\n",
        "Crie expressões regulares para extrair as seguintes informações do texto abaixo (use a função findall):\n",
        "- Números\n",
        "- CEPs\n",
        "- URLs\n"
      ]
    },
    {
      "cell_type": "code",
      "metadata": {
        "id": "UwyR0ezBzkqj"
      },
      "source": [
        "texto = \"Minha casa fica na rua Carneiro, 78. O CEP é 88388-000 e 11111-111 meu site é https://www.iaexpert.academy http://iaexpert.com.br\""
      ],
      "execution_count": 1,
      "outputs": []
    },
    {
      "cell_type": "code",
      "metadata": {
        "id": "-nGbc57NTvaT",
        "colab": {
          "base_uri": "https://localhost:8080/"
        },
        "outputId": "ad41ea52-4c3a-49e7-e54b-d8178f0d59f2"
      },
      "source": [
        "import re\n",
        "re.findall('\\d', texto)"
      ],
      "execution_count": 8,
      "outputs": [
        {
          "output_type": "execute_result",
          "data": {
            "text/plain": [
              "['7',\n",
              " '8',\n",
              " '8',\n",
              " '8',\n",
              " '3',\n",
              " '8',\n",
              " '8',\n",
              " '0',\n",
              " '0',\n",
              " '0',\n",
              " '1',\n",
              " '1',\n",
              " '1',\n",
              " '1',\n",
              " '1',\n",
              " '1',\n",
              " '1',\n",
              " '1']"
            ]
          },
          "metadata": {},
          "execution_count": 8
        }
      ]
    },
    {
      "cell_type": "code",
      "metadata": {
        "id": "xqiOpiYSB90B",
        "colab": {
          "base_uri": "https://localhost:8080/"
        },
        "outputId": "0d5d91f9-d3c5-4cef-df08-51751180b78c"
      },
      "source": [
        "re.findall('\\d{5}-\\d{3}', texto)"
      ],
      "execution_count": 4,
      "outputs": [
        {
          "output_type": "execute_result",
          "data": {
            "text/plain": [
              "['88388-000', '11111-111']"
            ]
          },
          "metadata": {},
          "execution_count": 4
        }
      ]
    },
    {
      "cell_type": "code",
      "metadata": {
        "id": "rh__D3aACG8R",
        "colab": {
          "base_uri": "https://localhost:8080/"
        },
        "outputId": "a4c22d78-e8cb-408d-dc49-bb679e03cff7"
      },
      "source": [
        "re.findall('https?://[A-Za-z0-9./]+', texto)"
      ],
      "execution_count": 5,
      "outputs": [
        {
          "output_type": "execute_result",
          "data": {
            "text/plain": [
              "['https://www.iaexpert.academy', 'http://iaexpert.com.br']"
            ]
          },
          "metadata": {},
          "execution_count": 5
        }
      ]
    }
  ]
}
