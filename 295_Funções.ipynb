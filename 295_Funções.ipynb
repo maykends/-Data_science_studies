{
  "nbformat": 4,
  "nbformat_minor": 0,
  "metadata": {
    "colab": {
      "provenance": [],
      "authorship_tag": "ABX9TyPsG/cWJ60IJII0dzArWY0b",
      "include_colab_link": true
    },
    "kernelspec": {
      "name": "python3",
      "display_name": "Python 3"
    },
    "language_info": {
      "name": "python"
    }
  },
  "cells": [
    {
      "cell_type": "markdown",
      "metadata": {
        "id": "view-in-github",
        "colab_type": "text"
      },
      "source": [
        "<a href=\"https://colab.research.google.com/github/maykends/-Data_science_studies/blob/main/295_Fun%C3%A7%C3%B5es.ipynb\" target=\"_parent\"><img src=\"https://colab.research.google.com/assets/colab-badge.svg\" alt=\"Open In Colab\"/></a>"
      ]
    },
    {
      "cell_type": "markdown",
      "source": [
        "# Funções\n",
        "\n",
        "- Trechos de programa que recebem um determinado nome e podem ser chamados várias vezes durante a execução \n",
        "- Principais vantagens: reutilização de código, modularidade e facilidade de manutenção do sistema"
      ],
      "metadata": {
        "id": "5Cd6TO1VjooN"
      }
    },
    {
      "cell_type": "markdown",
      "source": [
        "## Função sem parâmetro e sem retorno"
      ],
      "metadata": {
        "id": "6OFPmnsNjxMn"
      }
    },
    {
      "cell_type": "code",
      "source": [
        "def mensagem():\n",
        "  print('Texto da função')"
      ],
      "metadata": {
        "id": "mhMogtVMmjGT"
      },
      "execution_count": 1,
      "outputs": []
    },
    {
      "cell_type": "code",
      "source": [
        "mensagem()\n",
        "mensagem()\n",
        "mensagem()"
      ],
      "metadata": {
        "colab": {
          "base_uri": "https://localhost:8080/"
        },
        "id": "AFL_VcXorARV",
        "outputId": "e3a2cb04-617c-4373-93c3-0825d129da02"
      },
      "execution_count": 3,
      "outputs": [
        {
          "output_type": "stream",
          "name": "stdout",
          "text": [
            "Texto da função\n",
            "Texto da função\n",
            "Texto da função\n"
          ]
        }
      ]
    },
    {
      "cell_type": "markdown",
      "source": [
        "## Função com passagem de parâmetro"
      ],
      "metadata": {
        "id": "tXgz5gkAjywq"
      }
    },
    {
      "cell_type": "code",
      "source": [
        "def mensagem(texto):\n",
        "  print(texto)"
      ],
      "metadata": {
        "id": "KYeIVWGXrWag"
      },
      "execution_count": 8,
      "outputs": []
    },
    {
      "cell_type": "code",
      "source": [
        "mensagem('texto 1')\n",
        "mensagem('texto 2')\n",
        "mensagem('texto 3')"
      ],
      "metadata": {
        "colab": {
          "base_uri": "https://localhost:8080/"
        },
        "id": "LneJ7JMHrbMU",
        "outputId": "8da9adfc-641e-4350-ae62-4b1b2030eac2"
      },
      "execution_count": 9,
      "outputs": [
        {
          "output_type": "stream",
          "name": "stdout",
          "text": [
            "texto 1\n",
            "texto 2\n",
            "texto 3\n"
          ]
        }
      ]
    },
    {
      "cell_type": "code",
      "source": [
        "def soma(a,b):\n",
        "  print(a+b)"
      ],
      "metadata": {
        "id": "euLhjympmjfD"
      },
      "execution_count": 10,
      "outputs": []
    },
    {
      "cell_type": "code",
      "source": [
        "soma(2,3)"
      ],
      "metadata": {
        "colab": {
          "base_uri": "https://localhost:8080/"
        },
        "id": "Iarox8MPrNt8",
        "outputId": "2a28c379-a475-4c90-ace3-3264a8ed3fe0"
      },
      "execution_count": 12,
      "outputs": [
        {
          "output_type": "stream",
          "name": "stdout",
          "text": [
            "5\n"
          ]
        }
      ]
    },
    {
      "cell_type": "code",
      "source": [
        "soma(1,2)\n",
        "soma(2,3)"
      ],
      "metadata": {
        "colab": {
          "base_uri": "https://localhost:8080/"
        },
        "id": "hljx3KH3rknd",
        "outputId": "37fe5999-e2aa-4156-83ea-7917c596d6ec"
      },
      "execution_count": 13,
      "outputs": [
        {
          "output_type": "stream",
          "name": "stdout",
          "text": [
            "3\n",
            "5\n"
          ]
        }
      ]
    },
    {
      "cell_type": "markdown",
      "source": [
        "## Função com passagem de parâmetros e retorno"
      ],
      "metadata": {
        "id": "d3WUr50Fj0xz"
      }
    },
    {
      "cell_type": "code",
      "execution_count": 15,
      "metadata": {
        "id": "AUJuffx0jlTX"
      },
      "outputs": [],
      "source": [
        "def soma(a,b):\n",
        "  return a + b"
      ]
    },
    {
      "cell_type": "code",
      "source": [
        "soma(5,5)"
      ],
      "metadata": {
        "colab": {
          "base_uri": "https://localhost:8080/"
        },
        "id": "6JzPtIn5rs7c",
        "outputId": "4145e717-c1cc-4dd7-acdb-9c4235c919a1"
      },
      "execution_count": 17,
      "outputs": [
        {
          "output_type": "execute_result",
          "data": {
            "text/plain": [
              "10"
            ]
          },
          "metadata": {},
          "execution_count": 17
        }
      ]
    },
    {
      "cell_type": "code",
      "source": [
        "r = soma(3,5)\n",
        "print(r)"
      ],
      "metadata": {
        "colab": {
          "base_uri": "https://localhost:8080/"
        },
        "id": "hn3wgl8krxob",
        "outputId": "afff3d65-dca1-4f25-ef6c-bdeb803483a6"
      },
      "execution_count": 19,
      "outputs": [
        {
          "output_type": "stream",
          "name": "stdout",
          "text": [
            "8\n"
          ]
        }
      ]
    },
    {
      "cell_type": "code",
      "source": [
        "def calcula_energia_potencial_gravitacional(m, h, g = 10):\n",
        "  '''\n",
        "  Calcula a energia potencial gravitacional\n",
        "  Argumentos:\n",
        "  m: massa, entrada como uma variável float\n",
        "  h: altura, entrada como uma variável float\n",
        "\n",
        "  Argumento opcional:\n",
        "  g: aceleração gravitacional, com valor default de 10\n",
        "  '''\n",
        "  e = g * m * h\n",
        "  return e"
      ],
      "metadata": {
        "id": "bKyGs5xGr8zT"
      },
      "execution_count": 28,
      "outputs": []
    },
    {
      "cell_type": "code",
      "source": [
        "calcula_energia_potencial_gravitacional(30,12)"
      ],
      "metadata": {
        "colab": {
          "base_uri": "https://localhost:8080/"
        },
        "id": "o06guiWwsNMz",
        "outputId": "2337d247-e19c-42d5-e7f1-b1cd80aaca88"
      },
      "execution_count": 29,
      "outputs": [
        {
          "output_type": "execute_result",
          "data": {
            "text/plain": [
              "3600"
            ]
          },
          "metadata": {},
          "execution_count": 29
        }
      ]
    },
    {
      "cell_type": "code",
      "source": [
        "calcula_energia_potencial_gravitacional(30,12,9.8)"
      ],
      "metadata": {
        "colab": {
          "base_uri": "https://localhost:8080/"
        },
        "id": "jwAg6yLNsaML",
        "outputId": "2c9357c3-9ba3-45f2-d0a7-99ee46603f99"
      },
      "execution_count": 30,
      "outputs": [
        {
          "output_type": "execute_result",
          "data": {
            "text/plain": [
              "3528.0"
            ]
          },
          "metadata": {},
          "execution_count": 30
        }
      ]
    },
    {
      "cell_type": "code",
      "source": [
        "help(calcula_energia_potencial_gravitacional)"
      ],
      "metadata": {
        "colab": {
          "base_uri": "https://localhost:8080/"
        },
        "id": "VGQv7xFlsf_-",
        "outputId": "81f35668-fc27-4280-dbbd-e69003f763b4"
      },
      "execution_count": 31,
      "outputs": [
        {
          "output_type": "stream",
          "name": "stdout",
          "text": [
            "Help on function calcula_energia_potencial_gravitacional in module __main__:\n",
            "\n",
            "calcula_energia_potencial_gravitacional(m, h, g=10)\n",
            "    Calcula a energia potencial gravitacional\n",
            "    Argumentos:\n",
            "    m: massa, entrada como uma variável float\n",
            "    h: altura, entrada como uma variável float\n",
            "    \n",
            "    Argumento opcional:\n",
            "    g: aceleração gravitacional, com valor default de 10\n",
            "\n"
          ]
        }
      ]
    }
  ]
}