{
  "nbformat": 4,
  "nbformat_minor": 0,
  "metadata": {
    "colab": {
      "provenance": [],
      "authorship_tag": "ABX9TyPJCK83T50fQ7NZoKpm/52L",
      "include_colab_link": true
    },
    "kernelspec": {
      "name": "python3",
      "display_name": "Python 3"
    },
    "language_info": {
      "name": "python"
    }
  },
  "cells": [
    {
      "cell_type": "markdown",
      "metadata": {
        "id": "view-in-github",
        "colab_type": "text"
      },
      "source": [
        "<a href=\"https://colab.research.google.com/github/maykends/-Data_science_studies/blob/main/287_Estrutura_de_repeti%C3%A7%C3%A3o_while.ipynb\" target=\"_parent\"><img src=\"https://colab.research.google.com/assets/colab-badge.svg\" alt=\"Open In Colab\"/></a>"
      ]
    },
    {
      "cell_type": "markdown",
      "source": [
        "# Estruturas de repetição - while"
      ],
      "metadata": {
        "id": "GHtAtImXtAn-"
      }
    },
    {
      "cell_type": "code",
      "execution_count": null,
      "metadata": {
        "colab": {
          "base_uri": "https://localhost:8080/"
        },
        "id": "MdunJQG6snXZ",
        "outputId": "612d180d-c343-47ea-b9e7-38bf9cc8c73d"
      },
      "outputs": [
        {
          "output_type": "stream",
          "name": "stdout",
          "text": [
            "1\n",
            "2\n",
            "3\n",
            "4\n",
            "5\n"
          ]
        }
      ],
      "source": [
        "# Contagem até 5 \n",
        "numero = 1 # numero recebe 1\n",
        "while numero < 6: # Enquanto o numero for menor que 6\n",
        "  print(numero) # imprima o numero\n",
        "  numero += 1 # numero recebe numero + 1 prara que não entre em loop(incremento)"
      ]
    },
    {
      "cell_type": "code",
      "source": [
        "# Contagem até 5 \n",
        "numero = 5 # numero recebe 1\n",
        "while numero > 0: # Enquanto o numero for maior que zero\n",
        "  print(numero) # imprima o numero\n",
        "  numero -= 1 # numero recebe numero - 1 prara que não entre em loop(decremento)"
      ],
      "metadata": {
        "colab": {
          "base_uri": "https://localhost:8080/"
        },
        "id": "o400Se_4tDtn",
        "outputId": "9f2250bc-a18a-44b8-976e-f629d8f3ac7e"
      },
      "execution_count": null,
      "outputs": [
        {
          "output_type": "stream",
          "name": "stdout",
          "text": [
            "5\n",
            "4\n",
            "3\n",
            "2\n",
            "1\n"
          ]
        }
      ]
    },
    {
      "cell_type": "code",
      "source": [
        "# exmeplo para somar os valores\n",
        "\n",
        "1 + 2 + 3 + 4 + 5 "
      ],
      "metadata": {
        "colab": {
          "base_uri": "https://localhost:8080/"
        },
        "id": "iJbyCBKutD2S",
        "outputId": "f7127018-cc26-45a0-fa27-2a43914675cc"
      },
      "execution_count": null,
      "outputs": [
        {
          "output_type": "execute_result",
          "data": {
            "text/plain": [
              "15"
            ]
          },
          "metadata": {},
          "execution_count": 6
        }
      ]
    },
    {
      "cell_type": "code",
      "source": [
        "soma = 0\n",
        "numero = 1\n",
        "while numero < 6:\n",
        "  soma += numero\n",
        "  numero +=1   # incremento\n",
        "  print(soma)"
      ],
      "metadata": {
        "colab": {
          "base_uri": "https://localhost:8080/"
        },
        "id": "TUhCObPHtD_i",
        "outputId": "98e5d9f0-a6f7-40a7-84b1-37b1eb7edae3"
      },
      "execution_count": null,
      "outputs": [
        {
          "output_type": "stream",
          "name": "stdout",
          "text": [
            "1\n",
            "3\n",
            "6\n",
            "10\n",
            "15\n"
          ]
        }
      ]
    },
    {
      "cell_type": "code",
      "source": [
        "numero = -1\n",
        "while numero < 1 or numero > 10: # Enquanto o numero for menor do que 1 ou numero maior que 10\n",
        "  numero = int(input('Digite um numero de 1 a 10: '))"
      ],
      "metadata": {
        "colab": {
          "base_uri": "https://localhost:8080/"
        },
        "id": "QiK3_uTWtEHq",
        "outputId": "a7212be5-cd0c-4d28-87a1-6b4fab4756da"
      },
      "execution_count": null,
      "outputs": [
        {
          "name": "stdout",
          "output_type": "stream",
          "text": [
            "Digite um numero de 1 a 10: -1\n",
            "Digite um numero de 1 a 10: 12\n",
            "Digite um numero de 1 a 10: 4\n"
          ]
        }
      ]
    }
  ]
}