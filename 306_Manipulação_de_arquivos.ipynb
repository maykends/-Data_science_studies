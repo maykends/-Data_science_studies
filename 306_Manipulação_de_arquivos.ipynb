{
  "nbformat": 4,
  "nbformat_minor": 0,
  "metadata": {
    "colab": {
      "provenance": [],
      "include_colab_link": true
    },
    "kernelspec": {
      "name": "python3",
      "display_name": "Python 3"
    }
  },
  "cells": [
    {
      "cell_type": "markdown",
      "metadata": {
        "id": "view-in-github",
        "colab_type": "text"
      },
      "source": [
        "<a href=\"https://colab.research.google.com/github/maykends/-Data_science_studies/blob/main/306_Manipula%C3%A7%C3%A3o_de_arquivos.ipynb\" target=\"_parent\"><img src=\"https://colab.research.google.com/assets/colab-badge.svg\" alt=\"Open In Colab\"/></a>"
      ]
    },
    {
      "cell_type": "markdown",
      "metadata": {
        "id": "2mwCD5b1rYff"
      },
      "source": [
        "# Manipulação de arquivos"
      ]
    },
    {
      "cell_type": "code",
      "source": [
        "with open('/content/frase1.txt') as tex: # comando with, você consegue nomerar abertura do arquivo para tex\n",
        "  for linha in tex:  # percorrendo as linhas do arquivo\n",
        "    print(linha)"
      ],
      "metadata": {
        "colab": {
          "base_uri": "https://localhost:8080/"
        },
        "id": "1amKr_WNbbH9",
        "outputId": "2d683254-afd1-4051-8a72-3287498f643f"
      },
      "execution_count": 5,
      "outputs": [
        {
          "output_type": "stream",
          "name": "stdout",
          "text": [
            "Olá, tudo bem?\n",
            "\n",
            "Se você gosta de Python e tem um sonho\n",
            "\n",
            "de se tornar um desenvolvedor, vem comigo!\n"
          ]
        }
      ]
    },
    {
      "cell_type": "code",
      "source": [
        "with open('/content/frase1.txt', 'r') as tex: # comando with, você consegue nomerar abertura do arquivo para tex, ao usar o 'r' dar na mesma coisa por padrão não é necessário\n",
        "  for linha in tex:  # percorrendo as linhas do arquivo\n",
        "    print(linha)"
      ],
      "metadata": {
        "colab": {
          "base_uri": "https://localhost:8080/"
        },
        "id": "-PF0we9Tc3gV",
        "outputId": "b3ac34bb-370f-4d45-e3c6-67d8e83f456c"
      },
      "execution_count": 7,
      "outputs": [
        {
          "output_type": "stream",
          "name": "stdout",
          "text": [
            "Olá, tudo bem?\n",
            "\n",
            "Se você gosta de Python e tem um sonho\n",
            "\n",
            "de se tornar um desenvolvedor, vem comigo!\n"
          ]
        }
      ]
    },
    {
      "cell_type": "code",
      "source": [
        "# Enviando o conteúdo para dentro de uma lista\n",
        "with open('/content/frase1.txt') as tex: # comando with, você consegue nomerar abertura do arquivo para tex\n",
        "  r = tex.readlines() # realiza leitura de cada linha e joga para variável r"
      ],
      "metadata": {
        "id": "KwTD_g-Xbbd9"
      },
      "execution_count": 3,
      "outputs": []
    },
    {
      "cell_type": "code",
      "source": [
        "r"
      ],
      "metadata": {
        "colab": {
          "base_uri": "https://localhost:8080/"
        },
        "id": "FcOGq2G9bbts",
        "outputId": "ae533e91-2dbb-4ad1-86a6-77da10a5c6a6"
      },
      "execution_count": 4,
      "outputs": [
        {
          "output_type": "execute_result",
          "data": {
            "text/plain": [
              "['Olá, tudo bem?\\n',\n",
              " 'Se você gosta de Python e tem um sonho\\n',\n",
              " 'de se tornar um desenvolvedor, vem comigo!']"
            ]
          },
          "metadata": {},
          "execution_count": 4
        }
      ]
    },
    {
      "cell_type": "code",
      "source": [
        "# criando um arquivo a partir do Google Colab\n",
        "with open('texto2.txt', 'w') as texto: # w significa escrever no arquivo uma mensagem\n",
        "  texto.write('Olá, mais uma vez!') # realiza leitura de cada linha e joga para variável r"
      ],
      "metadata": {
        "id": "S1-K7XTCbb88"
      },
      "execution_count": 11,
      "outputs": []
    },
    {
      "cell_type": "code",
      "source": [
        "with open('/content/texto2.txt') as tex: # comando with, você consegue nomerar abertura do arquivo para tex\n",
        "  for linha in tex:  # percorrendo as linhas do arquivo\n",
        "    print(linha)"
      ],
      "metadata": {
        "colab": {
          "base_uri": "https://localhost:8080/"
        },
        "id": "3u4qnYradQ-9",
        "outputId": "18412c35-2ac6-47a0-9316-fc5752241f63"
      },
      "execution_count": 12,
      "outputs": [
        {
          "output_type": "stream",
          "name": "stdout",
          "text": [
            "Olá, mais uma vez!\n"
          ]
        }
      ]
    }
  ]
}