{
  "nbformat": 4,
  "nbformat_minor": 0,
  "metadata": {
    "colab": {
      "provenance": [],
      "authorship_tag": "ABX9TyOxw3O+NqbvJYaLLq2JGJLZ",
      "include_colab_link": true
    },
    "kernelspec": {
      "name": "python3",
      "display_name": "Python 3"
    },
    "language_info": {
      "name": "python"
    }
  },
  "cells": [
    {
      "cell_type": "markdown",
      "metadata": {
        "id": "view-in-github",
        "colab_type": "text"
      },
      "source": [
        "<a href=\"https://colab.research.google.com/github/maykends/-Data_science_studies/blob/main/300_M%C3%B3dulos_personalizados.ipynb\" target=\"_parent\"><img src=\"https://colab.research.google.com/assets/colab-badge.svg\" alt=\"Open In Colab\"/></a>"
      ]
    },
    {
      "cell_type": "markdown",
      "source": [
        "# Módulos personalizados"
      ],
      "metadata": {
        "id": "z1FjTWEr-0Lv"
      }
    },
    {
      "cell_type": "code",
      "source": [
        "import utilitarios as ut # criando sua própria função como forma de biblioteca"
      ],
      "metadata": {
        "id": "YOMuVVe6-6ek"
      },
      "execution_count": 1,
      "outputs": []
    },
    {
      "cell_type": "code",
      "source": [
        "ut.soma(1,2,3)"
      ],
      "metadata": {
        "colab": {
          "base_uri": "https://localhost:8080/"
        },
        "id": "HZj5C09N_7AN",
        "outputId": "00836cef-79c4-42e2-ce35-c357dadbaf88"
      },
      "execution_count": 2,
      "outputs": [
        {
          "output_type": "execute_result",
          "data": {
            "text/plain": [
              "6"
            ]
          },
          "metadata": {},
          "execution_count": 2
        }
      ]
    },
    {
      "cell_type": "code",
      "source": [
        "ut.mult(3,2,2)"
      ],
      "metadata": {
        "id": "K1F1WfHn-6cc",
        "colab": {
          "base_uri": "https://localhost:8080/"
        },
        "outputId": "061a4cc0-6fa8-4c17-9b7c-f1f4e2a579d4"
      },
      "execution_count": 3,
      "outputs": [
        {
          "output_type": "execute_result",
          "data": {
            "text/plain": [
              "12"
            ]
          },
          "metadata": {},
          "execution_count": 3
        }
      ]
    },
    {
      "cell_type": "code",
      "source": [
        "ut.isPalindromo('abc')"
      ],
      "metadata": {
        "id": "KwwGEjS5-6aF",
        "colab": {
          "base_uri": "https://localhost:8080/"
        },
        "outputId": "8d4a5632-ebab-4690-a630-4ec2c69761ad"
      },
      "execution_count": 4,
      "outputs": [
        {
          "output_type": "execute_result",
          "data": {
            "text/plain": [
              "False"
            ]
          },
          "metadata": {},
          "execution_count": 4
        }
      ]
    },
    {
      "cell_type": "code",
      "source": [
        "ut.isPalindromo('abccba')"
      ],
      "metadata": {
        "colab": {
          "base_uri": "https://localhost:8080/"
        },
        "id": "I__29G4bAJ6c",
        "outputId": "fb232d4b-0792-4d61-ea76-6c7b07080a85"
      },
      "execution_count": 5,
      "outputs": [
        {
          "output_type": "execute_result",
          "data": {
            "text/plain": [
              "True"
            ]
          },
          "metadata": {},
          "execution_count": 5
        }
      ]
    },
    {
      "cell_type": "code",
      "source": [
        "t = 'abccba'"
      ],
      "metadata": {
        "id": "1-AT8u5FAUDt"
      },
      "execution_count": 6,
      "outputs": []
    },
    {
      "cell_type": "code",
      "source": [
        "t[::-1] # comeca pela ultima posição, é como se estivesse percorrendo"
      ],
      "metadata": {
        "id": "8YjXgjqE-6WU",
        "colab": {
          "base_uri": "https://localhost:8080/",
          "height": 35
        },
        "outputId": "103eff57-f467-4b93-ab2f-acb0549613a8"
      },
      "execution_count": 7,
      "outputs": [
        {
          "output_type": "execute_result",
          "data": {
            "text/plain": [
              "'abccba'"
            ],
            "application/vnd.google.colaboratory.intrinsic+json": {
              "type": "string"
            }
          },
          "metadata": {},
          "execution_count": 7
        }
      ]
    },
    {
      "cell_type": "code",
      "source": [
        "t1 = 'abc'\n",
        "t1[::-1] # retorna ao contrário"
      ],
      "metadata": {
        "id": "la9gn3N8-6K1",
        "colab": {
          "base_uri": "https://localhost:8080/",
          "height": 35
        },
        "outputId": "bd78f1c9-d5a1-4546-b2c2-dc07160f9520"
      },
      "execution_count": 8,
      "outputs": [
        {
          "output_type": "execute_result",
          "data": {
            "text/plain": [
              "'cba'"
            ],
            "application/vnd.google.colaboratory.intrinsic+json": {
              "type": "string"
            }
          },
          "metadata": {},
          "execution_count": 8
        }
      ]
    },
    {
      "cell_type": "code",
      "source": [
        "ut.divisao(10,2)"
      ],
      "metadata": {
        "colab": {
          "base_uri": "https://localhost:8080/"
        },
        "id": "Wgj7CfVbBGZu",
        "outputId": "3ee53a75-657f-4b31-8a75-ab6d73595e5f"
      },
      "execution_count": 9,
      "outputs": [
        {
          "output_type": "execute_result",
          "data": {
            "text/plain": [
              "5.0"
            ]
          },
          "metadata": {},
          "execution_count": 9
        }
      ]
    }
  ]
}